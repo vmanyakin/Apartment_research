{
 "cells": [
  {
   "cell_type": "markdown",
   "id": "0e94b91c-731e-4e2e-9738-0caf1edf28eb",
   "metadata": {},
   "source": [
    "# Подготовка данных о 3-х комнатных квартирах\n",
    "\n",
    "Для исследования были собраны объявления с сайта Циан, с использованием самописного парсера. Данные представляют из себя объявления о 3-х комнатных квартирах, во вторичном и многоэтажном жилье, за октябрь 2023 года, в городе Омск.\n",
    "\n",
    "Для проведения исследования подготовим данные, а именно очистим и преобразуем их."
   ]
  },
  {
   "cell_type": "code",
   "execution_count": 1,
   "id": "b7975111-4636-41a0-adb2-ee4f1f0408d8",
   "metadata": {},
   "outputs": [],
   "source": [
    "import pandas as pd\n",
    "import numpy as np\n",
    "import re"
   ]
  },
  {
   "cell_type": "code",
   "execution_count": 2,
   "id": "42d21e3d-44f9-4808-ab89-da56f9f48e86",
   "metadata": {},
   "outputs": [
    {
     "data": {
      "text/html": [
       "<div>\n",
       "<style scoped>\n",
       "    .dataframe tbody tr th:only-of-type {\n",
       "        vertical-align: middle;\n",
       "    }\n",
       "\n",
       "    .dataframe tbody tr th {\n",
       "        vertical-align: top;\n",
       "    }\n",
       "\n",
       "    .dataframe thead th {\n",
       "        text-align: right;\n",
       "    }\n",
       "</style>\n",
       "<table border=\"1\" class=\"dataframe\">\n",
       "  <thead>\n",
       "    <tr style=\"text-align: right;\">\n",
       "      <th></th>\n",
       "      <th>seller</th>\n",
       "      <th>title</th>\n",
       "      <th>another_title</th>\n",
       "      <th>address</th>\n",
       "      <th>price</th>\n",
       "      <th>price_per_square_meterice</th>\n",
       "    </tr>\n",
       "  </thead>\n",
       "  <tbody>\n",
       "    <tr>\n",
       "      <th>0</th>\n",
       "      <td>Обмен.рф - Брусника Обмен</td>\n",
       "      <td>3-комн. кв., 66,8 м², 7/10 этаж</td>\n",
       "      <td>None</td>\n",
       "      <td>Омская область, Омск, Кировский, мкр. 12-й, ул...</td>\n",
       "      <td>6 500 000 ₽</td>\n",
       "      <td>97 305 ₽/м²</td>\n",
       "    </tr>\n",
       "    <tr>\n",
       "      <th>1</th>\n",
       "      <td>Обмен.рф - Брусника Обмен</td>\n",
       "      <td>3-комн. кв., 71,1 м², 1/10 этаж</td>\n",
       "      <td>None</td>\n",
       "      <td>Омская область, Омск, Кировский, мкр. Прибрежн...</td>\n",
       "      <td>7 700 000 ₽</td>\n",
       "      <td>108 298 ₽/м²</td>\n",
       "    </tr>\n",
       "    <tr>\n",
       "      <th>2</th>\n",
       "      <td>КВАРТИРНОЕ РЕШЕНИЕ</td>\n",
       "      <td>3-комн. кв., 61 м², 1/9 этаж</td>\n",
       "      <td>None</td>\n",
       "      <td>Омская область, Омск, Советский, мкр. Заозерны...</td>\n",
       "      <td>5 890 000 ₽</td>\n",
       "      <td>96 557 ₽/м²</td>\n",
       "    </tr>\n",
       "    <tr>\n",
       "      <th>3</th>\n",
       "      <td>ID 70295415</td>\n",
       "      <td>3-комн. кв., 62,1 м², 9/9 этаж</td>\n",
       "      <td>None</td>\n",
       "      <td>Омская область, Омск, Октябрьский, улица Свобо...</td>\n",
       "      <td>4 495 000 ₽</td>\n",
       "      <td>72 383 ₽/м²</td>\n",
       "    </tr>\n",
       "    <tr>\n",
       "      <th>4</th>\n",
       "      <td>ID 79765445</td>\n",
       "      <td>3-комн. кв., 76,8 м², 3/10 этаж</td>\n",
       "      <td>None</td>\n",
       "      <td>Омская область, Омск, Ленинский, проспект Карл...</td>\n",
       "      <td>ЖК «Граф»</td>\n",
       "      <td>161 992 ₽/м²</td>\n",
       "    </tr>\n",
       "  </tbody>\n",
       "</table>\n",
       "</div>"
      ],
      "text/plain": [
       "                      seller                            title another_title  \\\n",
       "0  Обмен.рф - Брусника Обмен  3-комн. кв., 66,8 м², 7/10 этаж          None   \n",
       "1  Обмен.рф - Брусника Обмен  3-комн. кв., 71,1 м², 1/10 этаж          None   \n",
       "2         КВАРТИРНОЕ РЕШЕНИЕ     3-комн. кв., 61 м², 1/9 этаж          None   \n",
       "3                ID 70295415   3-комн. кв., 62,1 м², 9/9 этаж          None   \n",
       "4                ID 79765445  3-комн. кв., 76,8 м², 3/10 этаж          None   \n",
       "\n",
       "                                             address        price  \\\n",
       "0  Омская область, Омск, Кировский, мкр. 12-й, ул...  6 500 000 ₽   \n",
       "1  Омская область, Омск, Кировский, мкр. Прибрежн...  7 700 000 ₽   \n",
       "2  Омская область, Омск, Советский, мкр. Заозерны...  5 890 000 ₽   \n",
       "3  Омская область, Омск, Октябрьский, улица Свобо...  4 495 000 ₽   \n",
       "4  Омская область, Омск, Ленинский, проспект Карл...    ЖК «Граф»   \n",
       "\n",
       "  price_per_square_meterice  \n",
       "0               97 305 ₽/м²  \n",
       "1              108 298 ₽/м²  \n",
       "2               96 557 ₽/м²  \n",
       "3               72 383 ₽/м²  \n",
       "4              161 992 ₽/м²  "
      ]
     },
     "execution_count": 2,
     "metadata": {},
     "output_type": "execute_result"
    }
   ],
   "source": [
    "df = pd.read_json(\"../data/data_about_apartments.json\")\n",
    "df.head()"
   ]
  },
  {
   "cell_type": "code",
   "execution_count": 3,
   "id": "a7f3056a-8730-454f-8365-8ed83901426f",
   "metadata": {},
   "outputs": [
    {
     "data": {
      "text/plain": [
       "(1640, 6)"
      ]
     },
     "execution_count": 3,
     "metadata": {},
     "output_type": "execute_result"
    }
   ],
   "source": [
    "df.shape"
   ]
  },
  {
   "cell_type": "markdown",
   "id": "c92ea12a-0110-40a5-a317-2f6ab925e3bb",
   "metadata": {},
   "source": [
    "## Очистка данных"
   ]
  },
  {
   "cell_type": "code",
   "execution_count": 4,
   "id": "f006e5e4-896d-4854-8c9a-b7db97e6e130",
   "metadata": {},
   "outputs": [],
   "source": [
    "# Удаляем дубликаты\n",
    "df.drop_duplicates(inplace=True)"
   ]
  },
  {
   "cell_type": "code",
   "execution_count": 5,
   "id": "7097fe24-cc57-4291-89f1-ac44d1d044a8",
   "metadata": {},
   "outputs": [
    {
     "data": {
      "text/plain": [
       "(1433, 6)"
      ]
     },
     "execution_count": 5,
     "metadata": {},
     "output_type": "execute_result"
    }
   ],
   "source": [
    "df.shape"
   ]
  },
  {
   "cell_type": "code",
   "execution_count": 6,
   "id": "ed0d9514-784e-40cb-b74a-00825b6393c6",
   "metadata": {},
   "outputs": [],
   "source": [
    "# Удаляем квартиры, которые еще не сданы\n",
    "mask = df.title.str.lower().str.contains(\"сдача\")\n",
    "df.drop(df[mask].index, inplace=True)"
   ]
  },
  {
   "cell_type": "code",
   "execution_count": 7,
   "id": "8ffaae2f-a380-49a0-b555-21af620ed08c",
   "metadata": {},
   "outputs": [
    {
     "name": "stdout",
     "output_type": "stream",
     "text": [
      "<class 'pandas.core.frame.DataFrame'>\n",
      "Int64Index: 1432 entries, 0 to 1526\n",
      "Data columns (total 6 columns):\n",
      " #   Column                     Non-Null Count  Dtype \n",
      "---  ------                     --------------  ----- \n",
      " 0   seller                     1432 non-null   object\n",
      " 1   title                      1432 non-null   object\n",
      " 2   another_title              11 non-null     object\n",
      " 3   address                    1432 non-null   object\n",
      " 4   price                      1432 non-null   object\n",
      " 5   price_per_square_meterice  1432 non-null   object\n",
      "dtypes: object(6)\n",
      "memory usage: 78.3+ KB\n"
     ]
    }
   ],
   "source": [
    "df.info()"
   ]
  },
  {
   "cell_type": "markdown",
   "id": "4f8e817f-a31f-4867-9b63-164549c90533",
   "metadata": {},
   "source": [
    "## Преобразование данных"
   ]
  },
  {
   "cell_type": "code",
   "execution_count": 8,
   "id": "de9e9d42-79d0-4ca2-962b-ca1f32bee79d",
   "metadata": {},
   "outputs": [],
   "source": [
    "def find_square_flat(x: str) -> float:\n",
    "    \"\"\"\n",
    "    Получаем площадь квартиры\n",
    "    \"\"\"\n",
    "    pattern = r\", (\\d+.\\d+ м²|\\d+. м²)\"\n",
    "    find_square = re.findall(pattern, x)[0]\n",
    "    num = float(find_square.split()[0].replace(\",\",\".\"))\n",
    "    return num\n",
    "    \n",
    "df[\"Площадь, м2\"] = df.title.map(find_square_flat).astype(np.int32)"
   ]
  },
  {
   "cell_type": "code",
   "execution_count": 24,
   "id": "d8a99446-bf61-464d-b8ac-8b29dd912232",
   "metadata": {},
   "outputs": [],
   "source": [
    "def find_flat_floor_and_total_floors(x: str, type_floor) -> tuple:\n",
    "    \"\"\"\n",
    "    Получаем этаж квартиры и количество этажей в доме\n",
    "    \n",
    "    :param type_floor: 0 - этаж квартиры, 1 - количество этажей в доме\n",
    "    \"\"\"\n",
    "    pattern = r\", \\d+/\\d+ этаж\"\n",
    "    find_floors = re.findall(pattern, x)[0]\n",
    "    floors = tuple(map(int,find_floors.split()[1].split(\"/\")))\n",
    "    return floors[type_floor]\n",
    "\n",
    "df[\"Этаж\"] = df.title.apply(find_flat_floor_and_total_floors, type_floor=0).astype(np.int32)\n",
    "df[\"Всего этажей\"] = df.title.apply(find_flat_floor_and_total_floors, type_floor=1).astype(np.int32)\n",
    "\n",
    "# Мы рассматриваем только многоэтажные дома\n",
    "df = df[df[\"Всего этажей\"] > 1]"
   ]
  },
  {
   "cell_type": "code",
   "execution_count": 25,
   "id": "66218de3-eede-454c-a311-85fd36c6ce6d",
   "metadata": {},
   "outputs": [],
   "source": [
    "def find_district_and_street(x: str, type_place) -> tuple:\n",
    "    \"\"\"\n",
    "    Получаем район и улицу\n",
    "    \n",
    "    :param type_place: 0 - район, 1 - улица\n",
    "    \"\"\"\n",
    "    find_place = x.split(\",\")\n",
    "    place = (find_place[2].strip(), \"\".join(find_place[-2:]).strip())\n",
    "    return place[type_place]\n",
    "\n",
    "df[\"Район\"] = df.address.apply(find_district_and_street, type_place=0)\n",
    "df[\"Адрес\"] = df.address.apply(find_district_and_street, type_place=1)"
   ]
  },
  {
   "cell_type": "code",
   "execution_count": 26,
   "id": "4b19d5d4-59db-4f39-bdcc-59f5098c7345",
   "metadata": {},
   "outputs": [],
   "source": [
    "df[\"Цена за квадрат, ₽/м²\"] = df.price_per_square_meterice.map(lambda x: int(''.join(re.findall(r\"\\d+\",x)))).astype(np.int32)"
   ]
  },
  {
   "cell_type": "code",
   "execution_count": 27,
   "id": "3d559009-88b4-4468-b15c-16aa64950390",
   "metadata": {},
   "outputs": [],
   "source": [
    "df[\"Цена, ₽\"] = df.loc[df.price.str.contains(\"₽\"),\"price\"].map(lambda x: int(''.join(re.findall(r\"\\d+\",x))))"
   ]
  },
  {
   "cell_type": "code",
   "execution_count": 28,
   "id": "778d177e-a4ec-4d76-a45e-e2e1af294bbc",
   "metadata": {},
   "outputs": [],
   "source": [
    "# При сборе данных некоторые ячейки в колонке price заполнились не ценами на квартиру\n",
    "# Но у нас есть данные о цене за квадрат и площади, поэтому мы можем высчитать цену за квартиру самостоятельно\n",
    "fail_price_df = df.loc[~df.price.str.contains(\"₽\"),[\"price\",\"Цена за квадрат, ₽/м²\",\"Площадь, м2\"]]\n",
    "df.loc[~df.price.str.contains(\"₽\"),\"Цена, ₽\"] = (fail_price_df.iloc[:,1] * fail_price_df.iloc[:,2])"
   ]
  },
  {
   "cell_type": "code",
   "execution_count": 29,
   "id": "c9f09a2b-6063-466a-bb01-5f348567716f",
   "metadata": {},
   "outputs": [],
   "source": [
    "df[\"Цена, ₽\"] = df[\"Цена, ₽\"].astype(np.int32)\n",
    "df[\"Продавец\"] = df[\"seller\"]"
   ]
  },
  {
   "cell_type": "code",
   "execution_count": 30,
   "id": "c64159e4-1f35-4a58-8e61-a03ded995680",
   "metadata": {},
   "outputs": [
    {
     "data": {
      "text/html": [
       "<div>\n",
       "<style scoped>\n",
       "    .dataframe tbody tr th:only-of-type {\n",
       "        vertical-align: middle;\n",
       "    }\n",
       "\n",
       "    .dataframe tbody tr th {\n",
       "        vertical-align: top;\n",
       "    }\n",
       "\n",
       "    .dataframe thead th {\n",
       "        text-align: right;\n",
       "    }\n",
       "</style>\n",
       "<table border=\"1\" class=\"dataframe\">\n",
       "  <thead>\n",
       "    <tr style=\"text-align: right;\">\n",
       "      <th></th>\n",
       "      <th>Продавец</th>\n",
       "      <th>Район</th>\n",
       "      <th>Адрес</th>\n",
       "      <th>Площадь, м2</th>\n",
       "      <th>Этаж</th>\n",
       "      <th>Всего этажей</th>\n",
       "      <th>Цена, ₽</th>\n",
       "      <th>Цена за квадрат, ₽/м²</th>\n",
       "    </tr>\n",
       "  </thead>\n",
       "  <tbody>\n",
       "    <tr>\n",
       "      <th>0</th>\n",
       "      <td>Обмен.рф - Брусника Обмен</td>\n",
       "      <td>Кировский</td>\n",
       "      <td>улица Ватутина 24/1</td>\n",
       "      <td>66</td>\n",
       "      <td>7</td>\n",
       "      <td>10</td>\n",
       "      <td>6500000</td>\n",
       "      <td>97305</td>\n",
       "    </tr>\n",
       "    <tr>\n",
       "      <th>1</th>\n",
       "      <td>Обмен.рф - Брусника Обмен</td>\n",
       "      <td>Кировский</td>\n",
       "      <td>улица Крупской 12</td>\n",
       "      <td>71</td>\n",
       "      <td>1</td>\n",
       "      <td>10</td>\n",
       "      <td>7700000</td>\n",
       "      <td>108298</td>\n",
       "    </tr>\n",
       "    <tr>\n",
       "      <th>2</th>\n",
       "      <td>КВАРТИРНОЕ РЕШЕНИЕ</td>\n",
       "      <td>Советский</td>\n",
       "      <td>улица Лаптева 3</td>\n",
       "      <td>61</td>\n",
       "      <td>1</td>\n",
       "      <td>9</td>\n",
       "      <td>5890000</td>\n",
       "      <td>96557</td>\n",
       "    </tr>\n",
       "    <tr>\n",
       "      <th>3</th>\n",
       "      <td>ID 70295415</td>\n",
       "      <td>Октябрьский</td>\n",
       "      <td>улица Свободы 45</td>\n",
       "      <td>62</td>\n",
       "      <td>9</td>\n",
       "      <td>9</td>\n",
       "      <td>4495000</td>\n",
       "      <td>72383</td>\n",
       "    </tr>\n",
       "    <tr>\n",
       "      <th>4</th>\n",
       "      <td>ID 79765445</td>\n",
       "      <td>Ленинский</td>\n",
       "      <td>проспект Карла Маркса 40</td>\n",
       "      <td>76</td>\n",
       "      <td>3</td>\n",
       "      <td>10</td>\n",
       "      <td>12311392</td>\n",
       "      <td>161992</td>\n",
       "    </tr>\n",
       "  </tbody>\n",
       "</table>\n",
       "</div>"
      ],
      "text/plain": [
       "                    Продавец        Район                     Адрес  \\\n",
       "0  Обмен.рф - Брусника Обмен    Кировский       улица Ватутина 24/1   \n",
       "1  Обмен.рф - Брусника Обмен    Кировский         улица Крупской 12   \n",
       "2         КВАРТИРНОЕ РЕШЕНИЕ    Советский           улица Лаптева 3   \n",
       "3                ID 70295415  Октябрьский          улица Свободы 45   \n",
       "4                ID 79765445    Ленинский  проспект Карла Маркса 40   \n",
       "\n",
       "   Площадь, м2  Этаж  Всего этажей   Цена, ₽  Цена за квадрат, ₽/м²  \n",
       "0           66     7            10   6500000                  97305  \n",
       "1           71     1            10   7700000                 108298  \n",
       "2           61     1             9   5890000                  96557  \n",
       "3           62     9             9   4495000                  72383  \n",
       "4           76     3            10  12311392                 161992  "
      ]
     },
     "execution_count": 30,
     "metadata": {},
     "output_type": "execute_result"
    }
   ],
   "source": [
    "processed_df = df[[\"Продавец\", \"Район\", \"Адрес\", \"Площадь, м2\",\"Этаж\", \"Всего этажей\",\"Цена, ₽\", \"Цена за квадрат, ₽/м²\"]]\n",
    "processed_df.head()"
   ]
  },
  {
   "cell_type": "code",
   "execution_count": 31,
   "id": "4c8f2686-f417-4f53-8818-74336d575c66",
   "metadata": {},
   "outputs": [
    {
     "name": "stdout",
     "output_type": "stream",
     "text": [
      "<class 'pandas.core.frame.DataFrame'>\n",
      "Int64Index: 1424 entries, 0 to 1526\n",
      "Data columns (total 8 columns):\n",
      " #   Column                 Non-Null Count  Dtype \n",
      "---  ------                 --------------  ----- \n",
      " 0   Продавец               1424 non-null   object\n",
      " 1   Район                  1424 non-null   object\n",
      " 2   Адрес                  1424 non-null   object\n",
      " 3   Площадь, м2            1424 non-null   int32 \n",
      " 4   Этаж                   1424 non-null   int32 \n",
      " 5   Всего этажей           1424 non-null   int32 \n",
      " 6   Цена, ₽                1424 non-null   int32 \n",
      " 7   Цена за квадрат, ₽/м²  1424 non-null   int32 \n",
      "dtypes: int32(5), object(3)\n",
      "memory usage: 72.3+ KB\n"
     ]
    }
   ],
   "source": [
    "processed_df.info()"
   ]
  },
  {
   "cell_type": "code",
   "execution_count": 32,
   "id": "a369729c-efd7-4935-99bb-bb99c2153b40",
   "metadata": {},
   "outputs": [],
   "source": [
    "processed_df.to_csv(\"../data/processed_data_about_apartments.csv\", sep=\";\",index=False)"
   ]
  }
 ],
 "metadata": {
  "kernelspec": {
   "display_name": "Python 3 (ipykernel)",
   "language": "python",
   "name": "python3"
  },
  "language_info": {
   "codemirror_mode": {
    "name": "ipython",
    "version": 3
   },
   "file_extension": ".py",
   "mimetype": "text/x-python",
   "name": "python",
   "nbconvert_exporter": "python",
   "pygments_lexer": "ipython3",
   "version": "3.10.9"
  }
 },
 "nbformat": 4,
 "nbformat_minor": 5
}
